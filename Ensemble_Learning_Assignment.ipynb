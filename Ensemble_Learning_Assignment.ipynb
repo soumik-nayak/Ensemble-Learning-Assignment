{
  "nbformat": 4,
  "nbformat_minor": 0,
  "metadata": {
    "colab": {
      "provenance": []
    },
    "kernelspec": {
      "name": "python3",
      "display_name": "Python 3"
    },
    "language_info": {
      "name": "python"
    }
  },
  "cells": [
    {
      "cell_type": "markdown",
      "source": [
        "#THEORY"
      ],
      "metadata": {
        "id": "4QPibixVSGHJ"
      }
    },
    {
      "cell_type": "markdown",
      "source": [
        "# Bagging and Random Forest - Assignment\n",
        "\n",
        "# Q1: Can we use Bagging for regression problems?\n",
        "# Yes, Bagging can be used for regression. In Scikit-learn, we use BaggingRegressor.\n",
        "from sklearn.ensemble import BaggingRegressor\n",
        "from sklearn.tree import DecisionTreeRegressor\n",
        "from sklearn.model_selection import train_test_split\n",
        "from sklearn.datasets import make_regression\n",
        "\n",
        "# Creating dataset\n",
        "X, y = make_regression(n_samples=1000, n_features=10, noise=0.2, random_state=42)\n",
        "X_train, X_test, y_train, y_test = train_test_split(X, y, test_size=0.2, random_state=42)\n",
        "\n",
        "# Training Bagging Regressor\n",
        "bagging_regressor = BaggingRegressor(base_estimator=DecisionTreeRegressor(), n_estimators=50, random_state=42)\n",
        "bagging_regressor.fit(X_train, y_train)\n",
        "print(\"Bagging Regressor Score:\", bagging_regressor.score(X_test, y_test))\n",
        "\n",
        "# Q2: Difference between multiple model training and single model training\n",
        "# Single Model: Trains one model on the entire dataset.\n",
        "# Multiple Models: Uses ensemble techniques like Bagging or Boosting to combine multiple models for better performance.\n",
        "\n",
        "# Q3: Explain the concept of feature randomness in Random Forest\n",
        "# Random Forest selects a subset of features at each split to introduce randomness and reduce overfitting.\n",
        "\n",
        "# Q4: What is OOB (Out-of-Bag) Score?\n",
        "from sklearn.ensemble import RandomForestClassifier\n",
        "from sklearn.datasets import make_classification\n",
        "\n",
        "X, y = make_classification(n_samples=1000, n_features=10, random_state=42)\n",
        "rf = RandomForestClassifier(n_estimators=100, oob_score=True, random_state=42)\n",
        "rf.fit(X, y)\n",
        "print(\"OOB Score:\", rf.oob_score_)\n",
        "\n",
        "# Q5: Feature Importance in Random Forest\n",
        "import matplotlib.pyplot as plt\n",
        "import numpy as np\n",
        "\n",
        "feature_importances = rf.feature_importances_\n",
        "indices = np.argsort(feature_importances)[::-1]\n",
        "plt.figure(figsize=(8, 6))\n",
        "plt.title(\"Feature Importances in Random Forest\")\n",
        "plt.bar(range(X.shape[1]), feature_importances[indices], align=\"center\")\n",
        "plt.xticks(range(X.shape[1]), indices)\n",
        "plt.show()\n",
        "\n",
        "# Q6: Working principle of a Bagging Classifier\n",
        "# Bagging Classifier trains multiple base classifiers on different bootstrapped datasets and aggregates their votes.\n",
        "from sklearn.ensemble import BaggingClassifier\n",
        "from sklearn.tree import DecisionTreeClassifier\n",
        "from sklearn.metrics import accuracy_score\n",
        "\n",
        "bagging_clf = BaggingClassifier(base_estimator=DecisionTreeClassifier(), n_estimators=50, random_state=42)\n",
        "bagging_clf.fit(X_train, y_train)\n",
        "y_pred = bagging_clf.predict(X_test)\n",
        "print(\"Bagging Classifier Accuracy:\", accuracy_score(y_test, y_pred))\n",
        "\n",
        "# Q7: Evaluating a Bagging Classifier\n",
        "# We use metrics like accuracy, precision, recall, and confusion matrix.\n",
        "from sklearn.metrics import classification_report\n",
        "print(classification_report(y_test, y_pred))\n",
        "\n",
        "# Q8: How does a Bagging Regressor work?\n",
        "# Similar to BaggingClassifier but uses averaging instead of majority voting.\n",
        "\n",
        "# Q9: Main advantage of ensemble techniques\n",
        "# They reduce variance and improve generalization.\n",
        "\n",
        "# Q10: Main challenge of ensemble methods\n",
        "# Computational cost and difficulty in tuning.\n",
        "\n",
        "# Q11: Key idea behind ensemble techniques\n",
        "# Combining multiple models to improve performance.\n",
        "\n",
        "# Q12: What is a Random Forest Classifier?\n",
        "# It is an ensemble of Decision Trees trained using Bagging with feature randomness.\n",
        "\n",
        "# Q13: Main types of ensemble techniques\n",
        "# Bagging, Boosting, Stacking.\n",
        "\n",
        "# Q14: What is ensemble learning in ML?\n",
        "# Combining multiple models to improve accuracy.\n",
        "\n",
        "# Q15: When to avoid ensemble methods?\n",
        "# When interpretability is important or computational cost is high.\n",
        "\n",
        "# Q16: How does Bagging reduce overfitting?\n",
        "# By training multiple models on different subsets of data.\n",
        "\n",
        "# Q17: Why is Random Forest better than a single Decision Tree?\n",
        "# It reduces overfitting and improves generalization.\n",
        "\n",
        "# Q18: Role of bootstrap sampling in Bagging\n",
        "# It introduces randomness and diversity in training models.\n",
        "\n",
        "# Q19: Real-world applications of ensemble techniques\n",
        "# Fraud detection, medical diagnosis, recommendation systems, etc.\n",
        "\n",
        "# Q20: Difference between Bagging and Boosting\n",
        "# Bagging reduces variance by training multiple models in parallel, while Boosting reduces bias by training models sequentially.\n"
      ],
      "metadata": {
        "id": "ujLnq2PdS0ng"
      }
    },
    {
      "cell_type": "markdown",
      "source": [
        "#PRACTICAL\n"
      ],
      "metadata": {
        "id": "IBAvBusAS0wm"
      }
    },
    {
      "cell_type": "code",
      "source": [
        "# Question 21:\n",
        "# Train a Bagging Classifier using Decision Trees on a sample dataset and print the model accuracy.\n",
        "\n",
        "import numpy as np\n",
        "import pandas as pd\n",
        "from sklearn.model_selection import train_test_split\n",
        "from sklearn.ensemble import BaggingClassifier\n",
        "from sklearn.tree import DecisionTreeClassifier\n",
        "from sklearn.datasets import make_classification\n",
        "from sklearn.metrics import accuracy_score\n",
        "\n",
        "# Generate a synthetic dataset\n",
        "X, y = make_classification(n_samples=1000, n_features=20, random_state=42)\n",
        "\n",
        "# Split into training and testing sets\n",
        "X_train, X_test, y_train, y_test = train_test_split(X, y, test_size=0.2, random_state=42)\n",
        "\n",
        "# Create a Bagging Classifier with Decision Trees\n",
        "# The 'base_estimator' argument has been replaced with 'estimator' in newer versions of scikit-learn.\n",
        "bagging_clf = BaggingClassifier(estimator=DecisionTreeClassifier(), n_estimators=50, random_state=42)\n",
        "\n",
        "# Train the model\n",
        "bagging_clf.fit(X_train, y_train)\n",
        "\n",
        "# Make predictions\n",
        "y_pred = bagging_clf.predict(X_test)\n",
        "\n",
        "# Compute accuracy\n",
        "accuracy = accuracy_score(y_test, y_pred)\n",
        "\n",
        "# Print model accuracy\n",
        "print(f\"Model Accuracy: {accuracy:.4f}\")"
      ],
      "metadata": {
        "colab": {
          "base_uri": "https://localhost:8080/"
        },
        "id": "go_T1RKfS6w8",
        "outputId": "9db8ad19-4609-4ce7-eeeb-b0629e2daf41"
      },
      "execution_count": null,
      "outputs": [
        {
          "output_type": "stream",
          "name": "stdout",
          "text": [
            "Model Accuracy: 0.8850\n"
          ]
        }
      ]
    },
    {
      "cell_type": "code",
      "source": [
        "# Question:\n",
        "# Train a Bagging Regressor using Decision Trees and evaluate using Mean Squared Error (MSE).\n",
        "\n",
        "import numpy as np\n",
        "import pandas as pd\n",
        "from sklearn.model_selection import train_test_split\n",
        "from sklearn.ensemble import BaggingRegressor\n",
        "from sklearn.tree import DecisionTreeRegressor\n",
        "from sklearn.datasets import make_regression\n",
        "from sklearn.metrics import mean_squared_error\n",
        "\n",
        "# Generate a synthetic regression dataset\n",
        "X, y = make_regression(n_samples=1000, n_features=20, noise=0.1, random_state=42)\n",
        "\n",
        "# Split into training and testing sets\n",
        "X_train, X_test, y_train, y_test = train_test_split(X, y, test_size=0.2, random_state=42)\n",
        "\n",
        "# Create a Bagging Regressor with Decision Trees\n",
        "# The 'base_estimator' argument has been replaced with 'estimator' in newer versions of scikit-learn.\n",
        "bagging_regressor = BaggingRegressor(estimator=DecisionTreeRegressor(), n_estimators=50, random_state=42)\n",
        "\n",
        "# Train the model\n",
        "bagging_regressor.fit(X_train, y_train)\n",
        "\n",
        "# Make predictions\n",
        "y_pred = bagging_regressor.predict(X_test)\n",
        "\n",
        "# Compute Mean Squared Error (MSE)\n",
        "mse = mean_squared_error(y_test, y_pred)\n",
        "\n",
        "# Print MSE\n",
        "print(f\"Mean Squared Error: {mse:.4f}\")\n"
      ],
      "metadata": {
        "colab": {
          "base_uri": "https://localhost:8080/"
        },
        "id": "37vpL60mTq-6",
        "outputId": "918c200f-74a6-4c96-b1b8-f6975dea33cb"
      },
      "execution_count": null,
      "outputs": [
        {
          "output_type": "stream",
          "name": "stdout",
          "text": [
            "Mean Squared Error: 7109.3879\n"
          ]
        }
      ]
    },
    {
      "cell_type": "code",
      "source": [
        "# Question 23:\n",
        "# Train a Random Forest Classifier on the Breast Cancer dataset and print feature importance scores.\n",
        "\n",
        "from sklearn.datasets import load_breast_cancer\n",
        "from sklearn.ensemble import RandomForestClassifier\n",
        "from sklearn.model_selection import train_test_split\n",
        "\n",
        "# Load the Breast Cancer dataset\n",
        "breast_cancer = load_breast_cancer()\n",
        "X, y = breast_cancer.data, breast_cancer.target\n",
        "\n",
        "# Split the data into training and testing sets\n",
        "X_train, X_test, y_train, y_test = train_test_split(X, y, test_size=0.2, random_state=42)\n",
        "\n",
        "# Train a Random Forest Classifier\n",
        "rf_classifier = RandomForestClassifier(n_estimators=100, random_state=42)\n",
        "rf_classifier.fit(X_train, y_train)\n",
        "\n",
        "# Print feature importance scores\n",
        "print(\"Feature Importance Scores:\")\n",
        "for feature, importance in zip(breast_cancer.feature_names, rf_classifier.feature_importances_):\n",
        "    print(f\"{feature}: {importance}\")\n"
      ],
      "metadata": {
        "colab": {
          "base_uri": "https://localhost:8080/"
        },
        "id": "ZQIu8DnYUhI9",
        "outputId": "9eec21c9-63a1-494f-893b-536c902c5454"
      },
      "execution_count": null,
      "outputs": [
        {
          "output_type": "stream",
          "name": "stdout",
          "text": [
            "Feature Importance Scores:\n",
            "mean radius: 0.048703371737755234\n",
            "mean texture: 0.013590877656998469\n",
            "mean perimeter: 0.053269746128179675\n",
            "mean area: 0.04755500886018552\n",
            "mean smoothness: 0.007285327830663239\n",
            "mean compactness: 0.013944325074050485\n",
            "mean concavity: 0.06800084191430111\n",
            "mean concave points: 0.10620998844591638\n",
            "mean symmetry: 0.003770291819290666\n",
            "mean fractal dimension: 0.0038857721093275\n",
            "radius error: 0.02013891719419153\n",
            "texture error: 0.004723988073894702\n",
            "perimeter error: 0.01130301388178435\n",
            "area error: 0.022406960160458473\n",
            "smoothness error: 0.004270910110504497\n",
            "compactness error: 0.005253215538990106\n",
            "concavity error: 0.009385832251596627\n",
            "concave points error: 0.003513255105598506\n",
            "symmetry error: 0.004018418617722808\n",
            "fractal dimension error: 0.00532145634222884\n",
            "worst radius: 0.07798687515738047\n",
            "worst texture: 0.021749011006763207\n",
            "worst perimeter: 0.06711483267839194\n",
            "worst area: 0.15389236463205394\n",
            "worst smoothness: 0.010644205147280952\n",
            "worst compactness: 0.020266035899623565\n",
            "worst concavity: 0.031801595740040434\n",
            "worst concave points: 0.14466326620735528\n",
            "worst symmetry: 0.010120176131974357\n",
            "worst fractal dimension: 0.005210118545497296\n"
          ]
        }
      ]
    },
    {
      "cell_type": "code",
      "source": [
        "# Question 24:\n",
        "# Train a Random Forest Regressor and compare its performance with a single Decision Tree.\n",
        "\n",
        "from sklearn.tree import DecisionTreeRegressor\n",
        "from sklearn.ensemble import RandomForestRegressor\n",
        "from sklearn.metrics import mean_squared_error\n",
        "\n",
        "# Create a synthetic regression dataset\n",
        "from sklearn.datasets import make_regression\n",
        "X, y = make_regression(n_samples=1000, n_features=20, noise=0.1, random_state=42)\n",
        "\n",
        "# Split the dataset\n",
        "X_train, X_test, y_train, y_test = train_test_split(X, y, test_size=0.2, random_state=42)\n",
        "\n",
        "# Train a Decision Tree Regressor\n",
        "dt_regressor = DecisionTreeRegressor(random_state=42)\n",
        "dt_regressor.fit(X_train, y_train)\n",
        "\n",
        "# Train a Random Forest Regressor\n",
        "rf_regressor = RandomForestRegressor(n_estimators=100, random_state=42)\n",
        "rf_regressor.fit(X_train, y_train)\n",
        "\n",
        "# Predictions and MSE for both models\n",
        "y_pred_dt = dt_regressor.predict(X_test)\n",
        "y_pred_rf = rf_regressor.predict(X_test)\n",
        "\n",
        "mse_dt = mean_squared_error(y_test, y_pred_dt)\n",
        "mse_rf = mean_squared_error(y_test, y_pred_rf)\n",
        "\n",
        "print(f\"Decision Tree MSE: {mse_dt:.4f}\")\n",
        "print(f\"Random Forest MSE: {mse_rf:.4f}\")\n"
      ],
      "metadata": {
        "colab": {
          "base_uri": "https://localhost:8080/"
        },
        "id": "mf281T8aVF7U",
        "outputId": "dae3f791-9a29-4bde-9eb1-a3a9327ed815"
      },
      "execution_count": null,
      "outputs": [
        {
          "output_type": "stream",
          "name": "stdout",
          "text": [
            "Decision Tree MSE: 20519.2975\n",
            "Random Forest MSE: 7055.5077\n"
          ]
        }
      ]
    },
    {
      "cell_type": "code",
      "source": [
        "# Question 25: Compute the Out-of-Bag (OOB) Score for a Random Forest Classifier.\n",
        "\n",
        "from sklearn.ensemble import RandomForestClassifier\n",
        "from sklearn.datasets import make_classification\n",
        "\n",
        "# Create a synthetic dataset\n",
        "X, y = make_classification(n_samples=1000, n_features=10, random_state=42)\n",
        "\n",
        "# Initialize the Random Forest Classifier with oob_score=True\n",
        "rf_classifier = RandomForestClassifier(n_estimators=100, oob_score=True, random_state=42)\n",
        "\n",
        "# Train the classifier\n",
        "rf_classifier.fit(X, y)\n",
        "\n",
        "# Access and print the OOB score\n",
        "oob_score = rf_classifier.oob_score_\n",
        "print(f\"OOB Score: {oob_score}\")"
      ],
      "metadata": {
        "colab": {
          "base_uri": "https://localhost:8080/"
        },
        "id": "ZZeX91MxVOVb",
        "outputId": "52653841-a092-4757-d268-7fd883850d57"
      },
      "execution_count": null,
      "outputs": [
        {
          "output_type": "stream",
          "name": "stdout",
          "text": [
            "OOB Score: 0.914\n"
          ]
        }
      ]
    },
    {
      "cell_type": "code",
      "source": [
        "# Question: Train a Bagging Classifier using SVM as a base estimator and print the accuracy.\n",
        "\n",
        "from sklearn.svm import SVC\n",
        "from sklearn.ensemble import BaggingClassifier\n",
        "from sklearn.datasets import make_classification\n",
        "from sklearn.model_selection import train_test_split\n",
        "from sklearn.metrics import accuracy_score\n",
        "\n",
        "# 1. Generate a synthetic dataset:\n",
        "X, y = make_classification(n_samples=1000, n_features=20, random_state=42)\n",
        "\n",
        "# 2. Split into training and testing sets:\n",
        "X_train, X_test, y_train, y_test = train_test_split(X, y, test_size=0.2, random_state=42)\n",
        "\n",
        "# 3. Create a Bagging Classifier with SVM as the base estimator:\n",
        "bagging_clf = BaggingClassifier(estimator=SVC(), n_estimators=10, random_state=42)\n",
        "\n",
        "# 4. Train the model:\n",
        "bagging_clf.fit(X_train, y_train)\n",
        "\n",
        "# 5. Make predictions:\n",
        "y_pred = bagging_clf.predict(X_test)\n",
        "\n",
        "# 6. Compute accuracy:\n",
        "accuracy = accuracy_score(y_test, y_pred)\n",
        "\n",
        "# 7. Print model accuracy:\n",
        "print(f\"Model Accuracy: {accuracy:.4f}\")"
      ],
      "metadata": {
        "colab": {
          "base_uri": "https://localhost:8080/"
        },
        "id": "_RaME2Z-l4k2",
        "outputId": "3b9a261d-9923-4bb3-bbc6-907da5f7f8f9"
      },
      "execution_count": null,
      "outputs": [
        {
          "output_type": "stream",
          "name": "stdout",
          "text": [
            "Model Accuracy: 0.8700\n"
          ]
        }
      ]
    },
    {
      "cell_type": "code",
      "source": [
        "# Question: Train a Random Forest Classifier with different numbers of trees (n_estimators) and compare accuracy.\n",
        "\n",
        "import pandas as pd\n",
        "import matplotlib.pyplot as plt\n",
        "from sklearn.ensemble import RandomForestClassifier\n",
        "from sklearn.datasets import make_classification\n",
        "from sklearn.model_selection import train_test_split\n",
        "from sklearn.metrics import accuracy_score\n",
        "\n",
        "# 1. Generate a synthetic dataset:\n",
        "X, y = make_classification(n_samples=1000, n_features=20, random_state=42)\n",
        "\n",
        "# 2. Split into training and testing sets:\n",
        "X_train, X_test, y_train, y_test = train_test_split(X, y, test_size=0.2, random_state=42)\n",
        "\n",
        "# 3. Define a list of n_estimators values to test:\n",
        "n_estimators_values = [10, 50, 100, 200, 500]\n",
        "\n",
        "# 4. Create a dictionary to store accuracy scores:\n",
        "accuracy_scores = {}\n",
        "\n",
        "# 5. Train and evaluate Random Forest models for each n_estimators value:\n",
        "for n_estimators in n_estimators_values:\n",
        "    # Create a Random Forest Classifier:\n",
        "    rf_classifier = RandomForestClassifier(n_estimators=n_estimators, random_state=42)\n",
        "\n",
        "    # Train the model:\n",
        "    rf_classifier.fit(X_train, y_train)\n",
        "\n",
        "    # Make predictions:\n",
        "    y_pred = rf_classifier.predict(X_test)\n",
        "\n",
        "    # Compute accuracy:\n",
        "    accuracy = accuracy_score(y_test, y_pred)\n",
        "\n",
        "    # Store accuracy in the dictionary:\n",
        "    accuracy_scores[n_estimators] = accuracy\n",
        "\n",
        "# 6. Create a Pandas DataFrame from accuracy scores:\n",
        "accuracy_df = pd.DataFrame.from_dict(accuracy_scores, orient='index', columns=['Accuracy'])\n",
        "\n",
        "# 7. Print the accuracy scores:\n",
        "print(accuracy_df)\n",
        "\n",
        "# 8. Plot the accuracy scores:\n",
        "plt.figure(figsize=(8, 6))\n",
        "plt.plot(accuracy_df.index, accuracy_df['Accuracy'], marker='o')\n",
        "plt.title('Random Forest Classifier Accuracy vs. Number of Trees')\n",
        "plt.xlabel('Number of Trees (n_estimators)')\n",
        "plt.ylabel('Accuracy')\n",
        "plt.grid(True)\n",
        "plt.show()"
      ],
      "metadata": {
        "colab": {
          "base_uri": "https://localhost:8080/",
          "height": 668
        },
        "id": "1ze_WadKmYTi",
        "outputId": "8bc18c27-69ff-4080-da72-c601be8ce3e4"
      },
      "execution_count": null,
      "outputs": [
        {
          "output_type": "stream",
          "name": "stdout",
          "text": [
            "     Accuracy\n",
            "10      0.855\n",
            "50      0.880\n",
            "100     0.900\n",
            "200     0.890\n",
            "500     0.900\n"
          ]
        },
        {
          "output_type": "display_data",
          "data": {
            "text/plain": [
              "<Figure size 800x600 with 1 Axes>"
            ],
            "image/png": "[encoded data removed]"
          },
          "metadata": {}
        }
      ]
    },
    {
      "cell_type": "code",
      "source": [
        "# Question: Train a Bagging Classifier using Logistic Regression as a base estimator and print AUC score.\n",
        "\n",
        "from sklearn.linear_model import LogisticRegression\n",
        "from sklearn.ensemble import BaggingClassifier\n",
        "from sklearn.datasets import make_classification\n",
        "from sklearn.model_selection import train_test_split\n",
        "from sklearn.metrics import roc_auc_score\n",
        "\n",
        "# 1. Generate a synthetic dataset:\n",
        "X, y = make_classification(n_samples=1000, n_features=20, random_state=42)\n",
        "\n",
        "# 2. Split into training and testing sets:\n",
        "X_train, X_test, y_train, y_test = train_test_split(X, y, test_size=0.2, random_state=42)\n",
        "\n",
        "# 3. Create a Bagging Classifier with Logistic Regression as the base estimator:\n",
        "bagging_clf = BaggingClassifier(estimator=LogisticRegression(), n_estimators=10, random_state=42)\n",
        "\n",
        "# 4. Train the model:\n",
        "bagging_clf.fit(X_train, y_train)\n",
        "\n",
        "# 5. Predict probabilities:\n",
        "y_pred_proba = bagging_clf.predict_proba(X_test)[:, 1]  # Probability of class 1\n",
        "\n",
        "# 6. Compute AUC score:\n",
        "auc_score = roc_auc_score(y_test, y_pred_proba)\n",
        "\n",
        "# 7. Print AUC score:\n",
        "print(f\"AUC Score: {auc_score:.4f}\")"
      ],
      "metadata": {
        "colab": {
          "base_uri": "https://localhost:8080/"
        },
        "id": "I0p_EtSumm63",
        "outputId": "bd858696-7cdd-4449-c4c7-438255ff53d2"
      },
      "execution_count": null,
      "outputs": [
        {
          "output_type": "stream",
          "name": "stdout",
          "text": [
            "AUC Score: 0.9225\n"
          ]
        }
      ]
    },
    {
      "cell_type": "code",
      "source": [
        "# Question: Train a Random Forest Regressor and analyze feature importance scores.\n",
        "\n",
        "import pandas as pd\n",
        "from sklearn.ensemble import RandomForestRegressor\n",
        "from sklearn.datasets import make_regression\n",
        "from sklearn.model_selection import train_test_split\n",
        "\n",
        "# 1. Generate a synthetic regression dataset:\n",
        "X, y = make_regression(n_samples=1000, n_features=10, random_state=42)\n",
        "\n",
        "# 2. Split into training and testing sets:\n",
        "X_train, X_test, y_train, y_test = train_test_split(X, y, test_size=0.2, random_state=42)\n",
        "\n",
        "# 3. Create a Random Forest Regressor:\n",
        "rf_regressor = RandomForestRegressor(n_estimators=100, random_state=42)\n",
        "\n",
        "# 4. Train the model:\n",
        "rf_regressor.fit(X_train, y_train)\n",
        "\n",
        "# 5. Get feature importance scores:\n",
        "feature_importances = rf_regressor.feature_importances_\n",
        "\n",
        "# 6. Create a DataFrame for feature importances:\n",
        "feature_importance_df = pd.DataFrame({'Feature': range(X.shape[1]), 'Importance': feature_importances})\n",
        "\n",
        "# 7. Sort by importance:\n",
        "feature_importance_df = feature_importance_df.sort_values(by='Importance', ascending=False)\n",
        "\n",
        "# 8. Print feature importance scores:\n",
        "print(feature_importance_df)"
      ],
      "metadata": {
        "colab": {
          "base_uri": "https://localhost:8080/"
        },
        "id": "iUO_6JxPnt_k",
        "outputId": "6e580b82-5e80-4980-a8ae-08e47e205df8"
      },
      "execution_count": null,
      "outputs": [
        {
          "output_type": "stream",
          "name": "stdout",
          "text": [
            "   Feature  Importance\n",
            "9        9    0.350388\n",
            "1        1    0.290549\n",
            "5        5    0.201465\n",
            "2        2    0.035226\n",
            "6        6    0.034869\n",
            "0        0    0.032187\n",
            "8        8    0.016165\n",
            "3        3    0.014689\n",
            "7        7    0.013005\n",
            "4        4    0.011457\n"
          ]
        }
      ]
    },
    {
      "cell_type": "code",
      "source": [
        "# Question: Train an ensemble model using both Bagging and Random Forest and compare accuracy.\n",
        "\n",
        "from sklearn.ensemble import BaggingClassifier, RandomForestClassifier\n",
        "from sklearn.linear_model import LogisticRegression # You can change the base estimator for Bagging\n",
        "from sklearn.datasets import make_classification\n",
        "from sklearn.model_selection import train_test_split\n",
        "from sklearn.metrics import accuracy_score\n",
        "\n",
        "# 1. Generate a synthetic dataset:\n",
        "X, y = make_classification(n_samples=1000, n_features=20, random_state=42)\n",
        "\n",
        "# 2. Split into training and testing sets:\n",
        "X_train, X_test, y_train, y_test = train_test_split(X, y, test_size=0.2, random_state=42)\n",
        "\n",
        "# 3. Create a Bagging Classifier:\n",
        "bagging_clf = BaggingClassifier(estimator=LogisticRegression(), n_estimators=10, random_state=42)\n",
        "# You can replace LogisticRegression() with any other base estimator\n",
        "\n",
        "# 4. Create a Random Forest Classifier:\n",
        "rf_clf = RandomForestClassifier(n_estimators=100, random_state=42)\n",
        "\n",
        "# 5. Train both models:\n",
        "bagging_clf.fit(X_train, y_train)\n",
        "rf_clf.fit(X_train, y_train)\n",
        "\n",
        "# 6. Make predictions:\n",
        "y_pred_bagging = bagging_clf.predict(X_test)\n",
        "y_pred_rf = rf_clf.predict(X_test)\n",
        "\n",
        "# 7. Compute accuracy scores:\n",
        "accuracy_bagging = accuracy_score(y_test, y_pred_bagging)\n",
        "accuracy_rf = accuracy_score(y_test, y_pred_rf)\n",
        "\n",
        "# 8. Print accuracy scores:\n",
        "print(f\"Bagging Classifier Accuracy: {accuracy_bagging:.4f}\")\n",
        "print(f\"Random Forest Classifier Accuracy: {accuracy_rf:.4f}\")"
      ],
      "metadata": {
        "colab": {
          "base_uri": "https://localhost:8080/"
        },
        "id": "84m5uuahnyPz",
        "outputId": "961d97a7-515d-4029-f303-269aaaff0749"
      },
      "execution_count": null,
      "outputs": [
        {
          "output_type": "stream",
          "name": "stdout",
          "text": [
            "Bagging Classifier Accuracy: 0.8600\n",
            "Random Forest Classifier Accuracy: 0.9000\n"
          ]
        }
      ]
    },
    {
      "cell_type": "code",
      "source": [
        "# Question: Train a Random Forest Classifier and tune hyperparameters using GridSearchCV.\n",
        "\n",
        "from sklearn.ensemble import RandomForestClassifier\n",
        "from sklearn.datasets import make_classification\n",
        "from sklearn.model_selection import train_test_split, GridSearchCV\n",
        "from sklearn.metrics import accuracy_score\n",
        "\n",
        "# 1. Generate a synthetic dataset:\n",
        "X, y = make_classification(n_samples=1000, n_features=20, random_state=42)\n",
        "\n",
        "# 2. Split into training and testing sets:\n",
        "X_train, X_test, y_train, y_test = train_test_split(X, y, test_size=0.2, random_state=42)\n",
        "\n",
        "# 3. Define the parameter grid for GridSearchCV:\n",
        "param_grid = {\n",
        "    'n_estimators': [50, 100, 200],\n",
        "    'max_depth': [None, 10, 20],\n",
        "    'min_samples_split': [2, 5, 10],\n",
        "    'min_samples_leaf': [1, 2, 4]\n",
        "}\n",
        "\n",
        "# 4. Create a Random Forest Classifier:\n",
        "rf_classifier = RandomForestClassifier(random_state=42)\n",
        "\n",
        "# 5. Create GridSearchCV object:\n",
        "grid_search = GridSearchCV(estimator=rf_classifier, param_grid=param_grid, cv=5, scoring='accuracy')\n",
        "\n",
        "# 6. Fit the GridSearchCV object to the training data:\n",
        "grid_search.fit(X_train, y_train)\n",
        "\n",
        "# 7. Get the best hyperparameters:\n",
        "best_params = grid_search.best_params_\n",
        "print(f\"Best Hyperparameters: {best_params}\")\n",
        "\n",
        "# 8. Get the best model:\n",
        "best_rf_classifier = grid_search.best_estimator_\n",
        "\n",
        "# 9. Make predictions using the best model:\n",
        "y_pred = best_rf_classifier.predict(X_test)\n",
        "\n",
        "# 10. Compute accuracy:\n",
        "accuracy = accuracy_score(y_test, y_pred)\n",
        "print(f\"Accuracy with tuned hyperparameters: {accuracy:.4f}\")"
      ],
      "metadata": {
        "colab": {
          "base_uri": "https://localhost:8080/"
        },
        "id": "TeONpXqkn1OL",
        "outputId": "e0ea1269-d99c-49aa-8f9a-f98ef7312002"
      },
      "execution_count": null,
      "outputs": [
        {
          "output_type": "stream",
          "name": "stdout",
          "text": [
            "Best Hyperparameters: {'max_depth': 10, 'min_samples_leaf': 2, 'min_samples_split': 5, 'n_estimators': 50}\n",
            "Accuracy with tuned hyperparameters: 0.8850\n"
          ]
        }
      ]
    },
    {
      "cell_type": "code",
      "source": [
        "# Question: Train a Bagging Regressor with different numbers of base estimators and compare performance.\n",
        "\n",
        "import pandas as pd\n",
        "import matplotlib.pyplot as plt\n",
        "from sklearn.ensemble import BaggingRegressor\n",
        "from sklearn.tree import DecisionTreeRegressor\n",
        "from sklearn.datasets import make_regression\n",
        "from sklearn.model_selection import train_test_split\n",
        "from sklearn.metrics import mean_squared_error\n",
        "\n",
        "# 1. Generate a synthetic regression dataset:\n",
        "X, y = make_regression(n_samples=1000, n_features=20, random_state=42)\n",
        "\n",
        "# 2. Split into training and testing sets:\n",
        "X_train, X_test, y_train, y_test = train_test_split(X, y, test_size=0.2, random_state=42)\n",
        "\n",
        "# 3. Define a list of n_estimators values to test:\n",
        "n_estimators_values = [10, 50, 100, 200, 500]\n",
        "\n",
        "# 4. Create a dictionary to store MSE scores:\n",
        "mse_scores = {}\n",
        "\n",
        "# 5. Train and evaluate Bagging Regressor models for each n_estimators value:\n",
        "for n_estimators in n_estimators_values:\n",
        "    # Create a Bagging Regressor:\n",
        "    bagging_regressor = BaggingRegressor(estimator=DecisionTreeRegressor(), n_estimators=n_estimators, random_state=42)\n",
        "\n",
        "    # Train the model:\n",
        "    bagging_regressor.fit(X_train, y_train)\n",
        "\n",
        "    # Make predictions:\n",
        "    y_pred = bagging_regressor.predict(X_test)\n",
        "\n",
        "    # Compute MSE:\n",
        "    mse = mean_squared_error(y_test, y_pred)\n",
        "\n",
        "    # Store MSE in the dictionary:\n",
        "    mse_scores[n_estimators] = mse\n",
        "\n",
        "# 6. Create a Pandas DataFrame from MSE scores:\n",
        "mse_df = pd.DataFrame.from_dict(mse_scores, orient='index', columns=['MSE'])\n",
        "\n",
        "# 7. Print the MSE scores:\n",
        "print(mse_df)\n",
        "\n",
        "# 8. Plot the MSE scores:\n",
        "plt.figure(figsize=(8, 6))\n",
        "plt.plot(mse_df.index, mse_df['MSE'], marker='o')\n",
        "plt.title('Bagging Regressor MSE vs. Number of Base Estimators')\n",
        "plt.xlabel('Number of Base Estimators (n_estimators)')\n",
        "plt.ylabel('MSE')\n",
        "plt.grid(True)\n",
        "plt.show()"
      ],
      "metadata": {
        "colab": {
          "base_uri": "https://localhost:8080/",
          "height": 668
        },
        "id": "0rJox2byp5Jp",
        "outputId": "c844d2ad-1841-4c53-98be-473a3f3bc8e3"
      },
      "execution_count": null,
      "outputs": [
        {
          "output_type": "stream",
          "name": "stdout",
          "text": [
            "             MSE\n",
            "10   9462.992186\n",
            "50   8308.576076\n",
            "100  8517.426228\n",
            "200  8528.914183\n",
            "500  8455.305285\n"
          ]
        },
        {
          "output_type": "display_data",
          "data": {
            "text/plain": [
              "<Figure size 800x600 with 1 Axes>"
            ],
            "image/png": "[encoded data removed]"
          },
          "metadata": {}
        }
      ]
    },
    {
      "cell_type": "code",
      "source": [
        "# Question: Train a Random Forest Classifier and analyze misclassified samples.\n",
        "\n",
        "import pandas as pd\n",
        "from sklearn.ensemble import RandomForestClassifier\n",
        "from sklearn.datasets import make_classification\n",
        "from sklearn.model_selection import train_test_split\n",
        "\n",
        "# 1. Generate a synthetic dataset:\n",
        "X, y = make_classification(n_samples=1000, n_features=20, random_state=42)\n",
        "\n",
        "# 2. Split into training and testing sets:\n",
        "X_train, X_test, y_train, y_test = train_test_split(X, y, test_size=0.2, random_state=42)\n",
        "\n",
        "# 3. Create a Random Forest Classifier:\n",
        "rf_classifier = RandomForestClassifier(n_estimators=100, random_state=42)\n",
        "\n",
        "# 4. Train the model:\n",
        "rf_classifier.fit(X_train, y_train)\n",
        "\n",
        "# 5. Make predictions:\n",
        "y_pred = rf_classifier.predict(X_test)\n",
        "\n",
        "# 6. Identify misclassified samples:\n",
        "misclassified_indices = [i for i, (pred, true) in enumerate(zip(y_pred, y_test)) if pred != true]\n",
        "\n",
        "# 7. Create a DataFrame of misclassified samples:\n",
        "misclassified_samples = pd.DataFrame(X_test[misclassified_indices], columns=[f\"Feature_{i}\" for i in range(X.shape[1])])\n",
        "misclassified_samples['True_Label'] = y_test[misclassified_indices]\n",
        "misclassified_samples['Predicted_Label'] = y_pred[misclassified_indices]\n",
        "\n",
        "# 8. Print the DataFrame of misclassified samples:\n",
        "print(misclassified_samples)\n",
        "\n",
        "# Further analysis can be performed on the misclassified samples, such as:\n",
        "# - Examining the feature values of misclassified samples\n",
        "# - Comparing the distribution of features for misclassified vs. correctly classified samples\n",
        "# - Visualizing the misclassified samples in a lower-dimensional space using techniques like PCA or t-SNE"
      ],
      "metadata": {
        "colab": {
          "base_uri": "https://localhost:8080/"
        },
        "id": "r4XENQukqFVn",
        "outputId": "8c23b204-2108-458e-bb54-4fae45575d08"
      },
      "execution_count": null,
      "outputs": [
        {
          "output_type": "stream",
          "name": "stdout",
          "text": [
            "    Feature_0  Feature_1  Feature_2  Feature_3  Feature_4  Feature_5  \\\n",
            "0    2.890643   0.838689  -0.817095   0.252231   0.939029  -0.812271   \n",
            "1   -0.091845   0.010092  -0.942558  -0.736770  -0.322028   0.612722   \n",
            "2    0.460825   0.308706  -1.399682  -0.290454  -1.163043  -0.184855   \n",
            "3    2.212531  -0.216794   0.212740  -0.825654  -0.431126   0.925421   \n",
            "4    0.415837  -0.158459   0.504288   0.013450  -0.507009   0.850248   \n",
            "5   -0.488777   0.798150   0.141878   2.475314  -0.818952  -0.698644   \n",
            "6   -1.402866   1.333985  -0.177492   0.581782  -0.369319  -1.742479   \n",
            "7   -1.407087   0.704001  -1.886129   1.191261   0.865290  -1.412515   \n",
            "8    1.017148   0.743693  -0.451936  -0.961251   1.528779  -0.784114   \n",
            "9    1.091805  -0.158370  -0.834185  -1.520287  -0.350778   0.763016   \n",
            "10  -0.051395   0.699816  -0.808794   1.538266   2.244682  -0.663860   \n",
            "11   0.160693   0.392609  -1.040467   0.505864   1.725998  -0.429847   \n",
            "12   1.868527  -0.415696  -0.946565   0.815594   0.030807  -0.856107   \n",
            "13   1.054621   0.380451  -0.459220  -0.653137  -1.534125  -1.611273   \n",
            "14  -0.247880   0.916356   0.699464   0.400000   1.179989  -0.968245   \n",
            "15  -0.184551   0.865658   0.687238  -1.934088  -0.841450  -1.333820   \n",
            "16  -1.942498   0.895911   0.891841   1.588447  -1.813293  -0.900324   \n",
            "17  -0.686732   0.882535  -1.174202  -1.399342   1.647878  -1.039974   \n",
            "18   0.743010   0.354131  -0.606664  -0.402757   0.034741  -0.315075   \n",
            "19  -0.313530  -0.213034   0.547265  -2.219300  -0.254956   0.890930   \n",
            "\n",
            "    Feature_6  Feature_7  Feature_8  Feature_9  ...  Feature_12  Feature_13  \\\n",
            "0    0.188670  -0.715338  -0.367863  -0.003358  ...    1.486159    1.548918   \n",
            "1    1.614779   0.585904   0.548320  -0.844941  ...    0.218534   -1.415267   \n",
            "2   -0.249370   1.462255  -0.081067   0.284755  ...    1.428760    1.072542   \n",
            "3    0.782874   0.444774  -0.728077  -2.086478  ...    0.364140    0.149363   \n",
            "4    0.290965   1.784775   0.957932  -1.073328  ...   -0.928792   -0.224853   \n",
            "5   -1.148840   0.017855   1.466312  -0.974884  ...   -0.243481    0.824152   \n",
            "6    0.082442   0.391209   1.112101  -0.747456  ...    1.156834   -0.016223   \n",
            "7    0.053059  -1.460501  -0.127407  -0.063745  ...   -1.716033    0.675137   \n",
            "8   -0.603438  -1.292303   0.104046   0.264824  ...   -0.549054   -2.009733   \n",
            "9   -2.266052  -1.399078  -2.522278   1.081514  ...    1.006730    0.450963   \n",
            "10  -1.864270  -0.741255  -0.291021  -0.531776  ...   -1.191719   -0.700118   \n",
            "11  -1.457274  -0.003477   0.735567  -0.506704  ...   -0.755975    0.973337   \n",
            "12   1.130527  -0.434795   0.184119  -1.171934  ...   -1.213463   -1.622975   \n",
            "13  -0.176134   0.522521   1.168580  -0.353859  ...   -0.814686   -1.018805   \n",
            "14  -1.875007  -0.226942  -0.010465  -0.911617  ...   -1.763237    2.288791   \n",
            "15  -0.435790   1.342180   0.099314   1.309865  ...    0.624904    0.023081   \n",
            "16  -0.154650   1.167218  -1.155708   1.073413  ...    0.801182   -0.684987   \n",
            "17  -0.355935   2.305947   0.798567   0.859631  ...    1.663986    0.796430   \n",
            "18   0.887309  -0.530011   0.787274  -1.660068  ...    0.625077    0.255784   \n",
            "19   0.548884   0.085893   0.482688   2.985259  ...   -0.851406   -0.229800   \n",
            "\n",
            "    Feature_14  Feature_15  Feature_16  Feature_17  Feature_18  Feature_19  \\\n",
            "0    -1.179530   -1.950078    0.703796    1.484521    0.663881    0.051359   \n",
            "1    -0.680131    1.009472   -0.087435   -1.499016   -0.195830    1.669070   \n",
            "2    -0.556254    1.434310    1.048400   -1.963289    0.206994   -2.219778   \n",
            "3    -0.460487    0.007178   -0.360039    0.160490   -0.405863    0.258661   \n",
            "4    -0.522550    2.935658    0.600213   -0.428848   -0.353572    0.360393   \n",
            "5    -1.202069   -0.815706    1.673744    0.335421    0.607442    1.256221   \n",
            "6    -1.394160    0.397397   -0.108139   -0.280502    1.203450   -1.750976   \n",
            "7    -0.208423    2.710794   -0.220018   -0.877484    0.796509    0.138078   \n",
            "8    -0.977625    1.510732    1.231304   -1.198362    0.609589   -0.650094   \n",
            "9    -0.429449   -1.571152   -0.070220    0.037542   -0.324968   -0.737380   \n",
            "10   -0.999102   -0.208506    0.627702    0.596300    0.549398   -0.175243   \n",
            "11   -0.499097    0.366147   -0.006679   -0.188981    0.327019    0.509501   \n",
            "12    1.931184    1.097485   -1.393818   -1.819051    0.083076   -0.563081   \n",
            "13    0.794473   -0.455342    1.024774    2.165521    0.708075   -0.806510   \n",
            "14   -1.202371    0.782027   -0.428318   -0.019918    0.751800   -0.375500   \n",
            "15   -0.687455    0.193449    0.592330   -0.074345    0.847443   -0.840493   \n",
            "16   -1.225096    0.765402   -0.155422    0.498690    0.719861    1.601074   \n",
            "17   -1.043029   -0.324858    0.384966   -0.982019    0.759239    0.780202   \n",
            "18   -0.527895    1.961104   -0.137165    0.825952    0.271184   -0.990861   \n",
            "19   -0.432774    0.175211    0.921802    0.367482   -0.392786    0.481866   \n",
            "\n",
            "    True_Label  Predicted_Label  \n",
            "0            1                0  \n",
            "1            0                1  \n",
            "2            1                0  \n",
            "3            0                1  \n",
            "4            0                1  \n",
            "5            1                0  \n",
            "6            1                0  \n",
            "7            1                0  \n",
            "8            1                0  \n",
            "9            0                1  \n",
            "10           1                0  \n",
            "11           1                0  \n",
            "12           1                0  \n",
            "13           1                0  \n",
            "14           1                0  \n",
            "15           1                0  \n",
            "16           1                0  \n",
            "17           1                0  \n",
            "18           1                0  \n",
            "19           0                1  \n",
            "\n",
            "[20 rows x 22 columns]\n"
          ]
        }
      ]
    },
    {
      "cell_type": "code",
      "source": [
        "# Question: Train a Bagging Classifier and compare its performance with a single Decision Tree Classifier.\n",
        "\n",
        "from sklearn.ensemble import BaggingClassifier\n",
        "from sklearn.tree import DecisionTreeClassifier\n",
        "from sklearn.datasets import make_classification\n",
        "from sklearn.model_selection import train_test_split\n",
        "from sklearn.metrics import accuracy_score\n",
        "\n",
        "# 1. Generate a synthetic dataset:\n",
        "X, y = make_classification(n_samples=1000, n_features=20, random_state=42)\n",
        "\n",
        "# 2. Split into training and testing sets:\n",
        "X_train, X_test, y_train, y_test = train_test_split(X, y, test_size=0.2, random_state=42)\n",
        "\n",
        "# 3. Create a Bagging Classifier:\n",
        "bagging_clf = BaggingClassifier(estimator=DecisionTreeClassifier(), n_estimators=10, random_state=42)\n",
        "\n",
        "# 4. Create a single Decision Tree Classifier:\n",
        "dt_clf = DecisionTreeClassifier(random_state=42)\n",
        "\n",
        "# 5. Train both models:\n",
        "bagging_clf.fit(X_train, y_train)\n",
        "dt_clf.fit(X_train, y_train)\n",
        "\n",
        "# 6. Make predictions:\n",
        "y_pred_bagging = bagging_clf.predict(X_test)\n",
        "y_pred_dt = dt_clf.predict(X_test)\n",
        "\n",
        "# 7. Compute accuracy scores:\n",
        "accuracy_bagging = accuracy_score(y_test, y_pred_bagging)\n",
        "accuracy_dt = accuracy_score(y_test, y_pred_dt)\n",
        "\n",
        "# 8. Print accuracy scores:\n",
        "print(f\"Bagging Classifier Accuracy: {accuracy_bagging:.4f}\")\n",
        "print(f\"Decision Tree Classifier Accuracy: {accuracy_dt:.4f}\")"
      ],
      "metadata": {
        "colab": {
          "base_uri": "https://localhost:8080/"
        },
        "id": "ijDNroxHqaYs",
        "outputId": "b84ab923-9fc6-4da1-b64e-e4d45c215811"
      },
      "execution_count": null,
      "outputs": [
        {
          "output_type": "stream",
          "name": "stdout",
          "text": [
            "Bagging Classifier Accuracy: 0.8850\n",
            "Decision Tree Classifier Accuracy: 0.8750\n"
          ]
        }
      ]
    },
    {
      "cell_type": "code",
      "source": [
        "# Question: Train a Random Forest Classifier and visualize the confusion matrix.\n",
        "\n",
        "import matplotlib.pyplot as plt\n",
        "import seaborn as sns\n",
        "from sklearn.ensemble import RandomForestClassifier\n",
        "from sklearn.datasets import make_classification\n",
        "from sklearn.model_selection import train_test_split\n",
        "from sklearn.metrics import confusion_matrix\n",
        "\n",
        "# 1. Generate a synthetic dataset:\n",
        "X, y = make_classification(n_samples=1000, n_features=20, random_state=42)\n",
        "\n",
        "# 2. Split into training and testing sets:\n",
        "X_train, X_test, y_train, y_test = train_test_split(X, y, test_size=0.2, random_state=42)\n",
        "\n",
        "# 3. Create a Random Forest Classifier:\n",
        "rf_classifier = RandomForestClassifier(n_estimators=100, random_state=42)\n",
        "\n",
        "# 4. Train the model:\n",
        "rf_classifier.fit(X_train, y_train)\n",
        "\n",
        "# 5. Make predictions:\n",
        "y_pred = rf_classifier.predict(X_test)\n",
        "\n",
        "# 6. Compute the confusion matrix:\n",
        "cm = confusion_matrix(y_test, y_pred)\n",
        "\n",
        "# 7. Visualize the confusion matrix using seaborn:\n",
        "plt.figure(figsize=(8, 6))\n",
        "sns.heatmap(cm, annot=True, fmt=\"d\", cmap=\"Blues\")\n",
        "plt.title(\"Confusion Matrix for Random Forest Classifier\")\n",
        "plt.xlabel(\"Predicted Label\")\n",
        "plt.ylabel(\"True Label\")\n",
        "plt.show()"
      ],
      "metadata": {
        "colab": {
          "base_uri": "https://localhost:8080/",
          "height": 564
        },
        "id": "nyb5UmMnqeFq",
        "outputId": "6b9b0f0a-cc09-4f76-de86-587a0701bf89"
      },
      "execution_count": null,
      "outputs": [
        {
          "output_type": "display_data",
          "data": {
            "text/plain": [
              "<Figure size 800x600 with 2 Axes>"
            ],
            "image/png": "[encoded data removed]"
          },
          "metadata": {}
        }
      ]
    },
    {
      "cell_type": "code",
      "source": [
        "# Question: Train a Stacking Classifier using Decision Trees, SVM, and Logistic Regression, and compare accuracy.\n",
        "\n",
        "from sklearn.ensemble import StackingClassifier\n",
        "from sklearn.tree import DecisionTreeClassifier\n",
        "from sklearn.svm import SVC\n",
        "from sklearn.linear_model import LogisticRegression\n",
        "from sklearn.datasets import make_classification\n",
        "from sklearn.model_selection import train_test_split\n",
        "from sklearn.metrics import accuracy_score\n",
        "\n",
        "# 1. Generate a synthetic dataset:\n",
        "X, y = make_classification(n_samples=1000, n_features=20, random_state=42)\n",
        "\n",
        "# 2. Split into training and testing sets:\n",
        "X_train, X_test, y_train, y_test = train_test_split(X, y, test_size=0.2, random_state=42)\n",
        "\n",
        "# 3. Define the base estimators:\n",
        "estimators = [\n",
        "    ('dt', DecisionTreeClassifier()),\n",
        "    ('svm', SVC()),\n",
        "    ('lr', LogisticRegression())\n",
        "]\n",
        "\n",
        "# 4. Create a Stacking Classifier:\n",
        "stacking_clf = StackingClassifier(estimators=estimators, final_estimator=LogisticRegression())\n",
        "\n",
        "# 5. Train the model:\n",
        "stacking_clf.fit(X_train, y_train)\n",
        "\n",
        "# 6. Make predictions:\n",
        "y_pred = stacking_clf.predict(X_test)\n",
        "\n",
        "# 7. Compute accuracy:\n",
        "accuracy = accuracy_score(y_test, y_pred)\n",
        "\n",
        "# 8. Print accuracy:\n",
        "print(f\"Stacking Classifier Accuracy: {accuracy:.4f}\")\n",
        "\n",
        "# Compare with individual base estimators:\n",
        "for name, estimator in estimators:\n",
        "    estimator.fit(X_train, y_train)\n",
        "    y_pred_base = estimator.predict(X_test)\n",
        "    accuracy_base = accuracy_score(y_test, y_pred_base)\n",
        "    print(f\"{name} Accuracy: {accuracy_base:.4f}\")"
      ],
      "metadata": {
        "colab": {
          "base_uri": "https://localhost:8080/"
        },
        "id": "v9lNujfyrNUO",
        "outputId": "23661dfe-c4c5-4e56-cfb8-61fcc44e692c"
      },
      "execution_count": null,
      "outputs": [
        {
          "output_type": "stream",
          "name": "stdout",
          "text": [
            "Stacking Classifier Accuracy: 0.8600\n",
            "dt Accuracy: 0.8600\n",
            "svm Accuracy: 0.8450\n",
            "lr Accuracy: 0.8550\n"
          ]
        }
      ]
    },
    {
      "cell_type": "code",
      "source": [
        "# Question: Train a Random Forest Classifier and print the top 5 most important features.\n",
        "\n",
        "import pandas as pd\n",
        "from sklearn.ensemble import RandomForestClassifier\n",
        "from sklearn.datasets import make_classification\n",
        "\n",
        "# 1. Generate a synthetic dataset:\n",
        "X, y = make_classification(n_samples=1000, n_features=20, random_state=42)\n",
        "\n",
        "# 2. Create a Random Forest Classifier:\n",
        "rf_classifier = RandomForestClassifier(n_estimators=100, random_state=42)\n",
        "\n",
        "# 3. Train the model:\n",
        "rf_classifier.fit(X, y)\n",
        "\n",
        "# 4. Get feature importance scores:\n",
        "feature_importances = rf_classifier.feature_importances_\n",
        "\n",
        "# 5. Create a DataFrame for feature importances:\n",
        "feature_importance_df = pd.DataFrame({'Feature': range(X.shape[1]), 'Importance': feature_importances})\n",
        "\n",
        "# 6. Sort by importance and select top 5:\n",
        "top_5_features = feature_importance_df.sort_values(by='Importance', ascending=False).head(5)\n",
        "\n",
        "# 7. Print the top 5 features:\n",
        "print(top_5_features)"
      ],
      "metadata": {
        "colab": {
          "base_uri": "https://localhost:8080/"
        },
        "id": "JRu7CIE6rO7K",
        "outputId": "f9c0d48c-5eaa-44be-8f08-ff5fd50d7781"
      },
      "execution_count": null,
      "outputs": [
        {
          "output_type": "stream",
          "name": "stdout",
          "text": [
            "    Feature  Importance\n",
            "5         5    0.322934\n",
            "18       18    0.207074\n",
            "1         1    0.095728\n",
            "14       14    0.082296\n",
            "11       11    0.029221\n"
          ]
        }
      ]
    },
    {
      "cell_type": "code",
      "source": [
        "# Question: Train a Bagging Classifier and evaluate performance using Precision, Recall, and F1-score.\n",
        "\n",
        "from sklearn.ensemble import BaggingClassifier\n",
        "from sklearn.tree import DecisionTreeClassifier\n",
        "from sklearn.datasets import make_classification\n",
        "from sklearn.model_selection import train_test_split\n",
        "from sklearn.metrics import accuracy_score, precision_score, recall_score, f1_score\n",
        "\n",
        "# 1. Generate a synthetic dataset:\n",
        "X, y = make_classification(n_samples=1000, n_features=20, random_state=42)\n",
        "\n",
        "# 2. Split into training and testing sets:\n",
        "X_train, X_test, y_train, y_test = train_test_split(X, y, test_size=0.2, random_state=42)\n",
        "\n",
        "# 3. Create a Bagging Classifier:\n",
        "bagging_clf = BaggingClassifier(estimator=DecisionTreeClassifier(), n_estimators=10, random_state=42)\n",
        "\n",
        "# 4. Train the model:\n",
        "bagging_clf.fit(X_train, y_train)\n",
        "\n",
        "# 5. Make predictions:\n",
        "y_pred = bagging_clf.predict(X_test)\n",
        "\n",
        "# 6. Compute evaluation metrics:\n",
        "accuracy = accuracy_score(y_test, y_pred)\n",
        "precision = precision_score(y_test, y_pred)\n",
        "recall = recall_score(y_test, y_pred)\n",
        "f1 = f1_score(y_test, y_pred)\n",
        "\n",
        "# 7. Print the evaluation metrics:\n",
        "print(f\"Accuracy: {accuracy:.4f}\")\n",
        "print(f\"Precision: {precision:.4f}\")\n",
        "print(f\"Recall: {recall:.4f}\")\n",
        "print(f\"F1-score: {f1:.4f}\")"
      ],
      "metadata": {
        "colab": {
          "base_uri": "https://localhost:8080/"
        },
        "id": "11OtCZ5OrRK-",
        "outputId": "f0125100-c977-4749-e47a-01e437220c38"
      },
      "execution_count": null,
      "outputs": [
        {
          "output_type": "stream",
          "name": "stdout",
          "text": [
            "Accuracy: 0.8850\n",
            "Precision: 0.9565\n",
            "Recall: 0.8224\n",
            "F1-score: 0.8844\n"
          ]
        }
      ]
    },
    {
      "cell_type": "code",
      "source": [
        "# Question: Train a Random Forest Classifier and analyze the effect of max_depth on accuracy.\n",
        "\n",
        "import pandas as pd\n",
        "import matplotlib.pyplot as plt\n",
        "from sklearn.ensemble import RandomForestClassifier\n",
        "from sklearn.datasets import make_classification\n",
        "from sklearn.model_selection import train_test_split\n",
        "from sklearn.metrics import accuracy_score\n",
        "\n",
        "# 1. Generate a synthetic dataset:\n",
        "X, y = make_classification(n_samples=1000, n_features=20, random_state=42)\n",
        "\n",
        "# 2. Split into training and testing sets:\n",
        "X_train, X_test, y_train, y_test = train_test_split(X, y, test_size=0.2, random_state=42)\n",
        "\n",
        "# 3. Define a list of max_depth values to test:\n",
        "max_depth_values = [None, 5, 10, 15, 20]\n",
        "\n",
        "# 4. Create a dictionary to store accuracy scores:\n",
        "accuracy_scores = {}\n",
        "\n",
        "# 5. Train and evaluate Random Forest models for each max_depth value:\n",
        "for max_depth in max_depth_values:\n",
        "    # Create a Random Forest Classifier:\n",
        "    rf_classifier = RandomForestClassifier(n_estimators=100, max_depth=max_depth, random_state=42)\n",
        "\n",
        "    # Train the model:\n",
        "    rf_classifier.fit(X_train, y_train)\n",
        "\n",
        "    # Make predictions:\n",
        "    y_pred = rf_classifier.predict(X_test)\n",
        "\n",
        "    # Compute accuracy:\n",
        "    accuracy = accuracy_score(y_test, y_pred)\n",
        "\n",
        "    # Store accuracy in the dictionary:\n",
        "    accuracy_scores[max_depth] = accuracy\n",
        "\n",
        "# 6. Create a Pandas DataFrame from accuracy scores:\n",
        "accuracy_df = pd.DataFrame.from_dict(accuracy_scores, orient='index', columns=['Accuracy'])\n",
        "\n",
        "# 7. Print the accuracy scores:\n",
        "print(accuracy_df)\n",
        "\n",
        "# 8. Plot the accuracy scores:\n",
        "plt.figure(figsize=(8, 6))\n",
        "plt.plot(accuracy_df.index, accuracy_df['Accuracy'], marker='o')\n",
        "plt.title('Random Forest Classifier Accuracy vs. max_depth')\n",
        "plt.xlabel('max_depth')\n",
        "plt.ylabel('Accuracy')\n",
        "plt.grid(True)\n",
        "plt.show()"
      ],
      "metadata": {
        "colab": {
          "base_uri": "https://localhost:8080/",
          "height": 668
        },
        "id": "auwV8Q-grSjm",
        "outputId": "581e4543-50c6-40ad-93eb-c95243d4bf2d"
      },
      "execution_count": null,
      "outputs": [
        {
          "output_type": "stream",
          "name": "stdout",
          "text": [
            "      Accuracy\n",
            "NaN      0.900\n",
            "5.0      0.880\n",
            "10.0     0.885\n",
            "15.0     0.895\n",
            "20.0     0.900\n"
          ]
        },
        {
          "output_type": "display_data",
          "data": {
            "text/plain": [
              "<Figure size 800x600 with 1 Axes>"
            ],
            "image/png": "[encoded data removed]"
          },
          "metadata": {}
        }
      ]
    },
    {
      "cell_type": "code",
      "source": [
        "# Question: Train a Bagging Regressor using different base estimators (DecisionTree and KNeighbors) and compare performance.\n",
        "\n",
        "import pandas as pd\n",
        "from sklearn.ensemble import BaggingRegressor\n",
        "from sklearn.tree import DecisionTreeRegressor\n",
        "from sklearn.neighbors import KNeighborsRegressor\n",
        "from sklearn.datasets import make_regression\n",
        "from sklearn.model_selection import train_test_split\n",
        "from sklearn.metrics import mean_squared_error\n",
        "\n",
        "# 1. Generate a synthetic regression dataset:\n",
        "X, y = make_regression(n_samples=1000, n_features=20, random_state=42)\n",
        "\n",
        "# 2. Split into training and testing sets:\n",
        "X_train, X_test, y_train, y_test = train_test_split(X, y, test_size=0.2, random_state=42)\n",
        "\n",
        "# 3. Define base estimators:\n",
        "base_estimators = [\n",
        "    ('DecisionTree', DecisionTreeRegressor()),\n",
        "    ('KNeighbors', KNeighborsRegressor())\n",
        "]\n",
        "\n",
        "# 4. Create a dictionary to store MSE scores:\n",
        "mse_scores = {}\n",
        "\n",
        "# 5. Train and evaluate Bagging Regressor models for each base estimator:\n",
        "for name, estimator in base_estimators:\n",
        "    # Create a Bagging Regressor:\n",
        "    bagging_regressor = BaggingRegressor(estimator=estimator, n_estimators=10, random_state=42)\n",
        "\n",
        "    # Train the model:\n",
        "    bagging_regressor.fit(X_train, y_train)\n",
        "\n",
        "    # Make predictions:\n",
        "    y_pred = bagging_regressor.predict(X_test)\n",
        "\n",
        "    # Compute MSE:\n",
        "    mse = mean_squared_error(y_test, y_pred)\n",
        "\n",
        "    # Store MSE in the dictionary:\n",
        "    mse_scores[name] = mse\n",
        "\n",
        "# 6. Create a Pandas DataFrame from MSE scores:\n",
        "mse_df = pd.DataFrame.from_dict(mse_scores, orient='index', columns=['MSE'])\n",
        "\n",
        "# 7. Print the MSE scores:\n",
        "print(mse_df)"
      ],
      "metadata": {
        "colab": {
          "base_uri": "https://localhost:8080/"
        },
        "id": "KWaD4TQqrVFF",
        "outputId": "5d986d26-ad8e-4f73-f88d-59a1a79570ca"
      },
      "execution_count": null,
      "outputs": [
        {
          "output_type": "stream",
          "name": "stdout",
          "text": [
            "                       MSE\n",
            "DecisionTree   9462.992186\n",
            "KNeighbors    14832.180009\n"
          ]
        }
      ]
    },
    {
      "cell_type": "code",
      "source": [
        "# Question: Train a Random Forest Classifier and evaluate its performance using ROC-AUC Score.\n",
        "\n",
        "from sklearn.ensemble import RandomForestClassifier\n",
        "from sklearn.datasets import make_classification\n",
        "from sklearn.model_selection import train_test_split\n",
        "from sklearn.metrics import roc_auc_score\n",
        "\n",
        "# 1. Generate a synthetic dataset:\n",
        "X, y = make_classification(n_samples=1000, n_features=20, random_state=42)\n",
        "\n",
        "# 2. Split into training and testing sets:\n",
        "X_train, X_test, y_train, y_test = train_test_split(X, y, test_size=0.2, random_state=42)\n",
        "\n",
        "# 3. Create a Random Forest Classifier:\n",
        "rf_classifier = RandomForestClassifier(n_estimators=100, random_state=42)\n",
        "\n",
        "# 4. Train the model:\n",
        "rf_classifier.fit(X_train, y_train)\n",
        "\n",
        "# 5. Predict probabilities:\n",
        "y_pred_proba = rf_classifier.predict_proba(X_test)[:, 1]  # Probability of class 1\n",
        "\n",
        "# 6. Compute ROC-AUC score:\n",
        "roc_auc = roc_auc_score(y_test, y_pred_proba)\n",
        "\n",
        "# 7. Print ROC-AUC score:\n",
        "print(f\"ROC-AUC Score: {roc_auc:.4f}\")"
      ],
      "metadata": {
        "colab": {
          "base_uri": "https://localhost:8080/"
        },
        "id": "cddxxlfYrWyY",
        "outputId": "01cc71dd-b18d-456b-9c52-8a27d91cca2b"
      },
      "execution_count": null,
      "outputs": [
        {
          "output_type": "stream",
          "name": "stdout",
          "text": [
            "ROC-AUC Score: 0.9379\n"
          ]
        }
      ]
    },
    {
      "cell_type": "code",
      "source": [
        "# Question: Train a Bagging Classifier and evaluate its performance using cross-validation.\n",
        "\n",
        "from sklearn.ensemble import BaggingClassifier\n",
        "from sklearn.tree import DecisionTreeClassifier\n",
        "from sklearn.datasets import make_classification\n",
        "from sklearn.model_selection import cross_val_score\n",
        "\n",
        "# 1. Generate a synthetic dataset:\n",
        "X, y = make_classification(n_samples=1000, n_features=20, random_state=42)\n",
        "\n",
        "# 2. Create a Bagging Classifier:\n",
        "bagging_clf = BaggingClassifier(estimator=DecisionTreeClassifier(), n_estimators=10, random_state=42)\n",
        "\n",
        "# 3. Perform cross-validation:\n",
        "scores = cross_val_score(bagging_clf, X, y, cv=5, scoring='accuracy')  # cv=5 for 5-fold cross-validation\n",
        "\n",
        "# 4. Print cross-validation scores:\n",
        "print(f\"Cross-validation scores: {scores}\")\n",
        "print(f\"Average accuracy: {scores.mean():.4f}\")"
      ],
      "metadata": {
        "colab": {
          "base_uri": "https://localhost:8080/"
        },
        "id": "C_A7Kqzar0x1",
        "outputId": "3249cb1b-0af1-4ccd-a3e9-bd49a3476154"
      },
      "execution_count": null,
      "outputs": [
        {
          "output_type": "stream",
          "name": "stdout",
          "text": [
            "Cross-validation scores: [0.95  0.9   0.895 0.895 0.86 ]\n",
            "Average accuracy: 0.9000\n"
          ]
        }
      ]
    },
    {
      "cell_type": "code",
      "source": [
        "# Question: Train a Random Forest Classifier and plot the Precision-Recall curve.\n",
        "\n",
        "import matplotlib.pyplot as plt\n",
        "from sklearn.ensemble import RandomForestClassifier\n",
        "from sklearn.datasets import make_classification\n",
        "from sklearn.model_selection import train_test_split\n",
        "from sklearn.metrics import precision_recall_curve, average_precision_score\n",
        "\n",
        "# 1. Generate a synthetic dataset:\n",
        "X, y = make_classification(n_samples=1000, n_features=20, random_state=42)\n",
        "\n",
        "# 2. Split into training and testing sets:\n",
        "X_train, X_test, y_train, y_test = train_test_split(X, y, test_size=0.2, random_state=42)\n",
        "\n",
        "# 3. Create a Random Forest Classifier:\n",
        "rf_classifier = RandomForestClassifier(n_estimators=100, random_state=42)\n",
        "\n",
        "# 4. Train the model:\n",
        "rf_classifier.fit(X_train, y_train)\n",
        "\n",
        "# 5. Predict probabilities:\n",
        "y_pred_proba = rf_classifier.predict_proba(X_test)[:, 1]  # Probability of class 1\n",
        "\n",
        "# 6. Compute precision-recall curve:\n",
        "precision, recall, thresholds = precision_recall_curve(y_test, y_pred_proba)\n",
        "\n",
        "# 7. Compute average precision:\n",
        "average_precision = average_precision_score(y_test, y_pred_proba)\n",
        "\n",
        "# 8. Plot precision-recall curve:\n",
        "plt.figure(figsize=(8, 6))\n",
        "plt.step(recall, precision, color='b', alpha=0.2, where='post')\n",
        "plt.fill_between(recall, precision, step='post', alpha=0.2, color='b')\n",
        "plt.xlabel('Recall')\n",
        "plt.ylabel('Precision')\n",
        "plt.ylim([0.0, 1.05])\n",
        "plt.xlim([0.0, 1.0])\n",
        "plt.title(f'Precision-Recall curve: AP={average_precision:.2f}')\n",
        "plt.show()"
      ],
      "metadata": {
        "colab": {
          "base_uri": "https://localhost:8080/",
          "height": 564
        },
        "id": "74fD9_Njr2wc",
        "outputId": "1111ce38-3c7b-4fdd-9326-2e1486f036dd"
      },
      "execution_count": null,
      "outputs": [
        {
          "output_type": "display_data",
          "data": {
            "text/plain": [
              "<Figure size 800x600 with 1 Axes>"
            ],
            "image/png": "[encoded data removed]"
          },
          "metadata": {}
        }
      ]
    },
    {
      "cell_type": "code",
      "source": [
        "# Question: Train a Stacking Classifier with Random Forest and Logistic Regression and compare accuracy.\n",
        "\n",
        "from sklearn.ensemble import StackingClassifier, RandomForestClassifier\n",
        "from sklearn.linear_model import LogisticRegression\n",
        "from sklearn.datasets import make_classification\n",
        "from sklearn.model_selection import train_test_split\n",
        "from sklearn.metrics import accuracy_score\n",
        "\n",
        "# 1. Generate a synthetic dataset:\n",
        "X, y = make_classification(n_samples=1000, n_features=20, random_state=42)\n",
        "\n",
        "# 2. Split into training and testing sets:\n",
        "X_train, X_test, y_train, y_test = train_test_split(X, y, test_size=0.2, random_state=42)\n",
        "\n",
        "# 3. Define the base estimators:\n",
        "estimators = [\n",
        "    ('rf', RandomForestClassifier(n_estimators=100, random_state=42)),\n",
        "    ('lr', LogisticRegression(random_state=42))\n",
        "]\n",
        "\n",
        "# 4. Create a Stacking Classifier:\n",
        "stacking_clf = StackingClassifier(estimators=estimators, final_estimator=LogisticRegression(random_state=42))\n",
        "\n",
        "# 5. Train the model:\n",
        "stacking_clf.fit(X_train, y_train)\n",
        "\n",
        "# 6. Make predictions:\n",
        "y_pred = stacking_clf.predict(X_test)\n",
        "\n",
        "# 7. Compute accuracy:\n",
        "accuracy = accuracy_score(y_test, y_pred)\n",
        "\n",
        "# 8. Print accuracy:\n",
        "print(f\"Stacking Classifier Accuracy: {accuracy:.4f}\")\n",
        "\n",
        "# Compare with individual base estimators:\n",
        "for name, estimator in estimators:\n",
        "    estimator.fit(X_train, y_train)\n",
        "    y_pred_base = estimator.predict(X_test)\n",
        "    accuracy_base = accuracy_score(y_test, y_pred_base)\n",
        "    print(f\"{name} Accuracy: {accuracy_base:.4f}\")"
      ],
      "metadata": {
        "colab": {
          "base_uri": "https://localhost:8080/"
        },
        "id": "a9tbEJR_r37l",
        "outputId": "cd9de924-0f07-4b65-b3c2-c1e7d16c0d9e"
      },
      "execution_count": null,
      "outputs": [
        {
          "output_type": "stream",
          "name": "stdout",
          "text": [
            "Stacking Classifier Accuracy: 0.8900\n",
            "rf Accuracy: 0.9000\n",
            "lr Accuracy: 0.8550\n"
          ]
        }
      ]
    },
    {
      "cell_type": "code",
      "source": [
        "# Question: Train a Bagging Regressor with different levels of bootstrap samples and compare performance.\n",
        "\n",
        "import pandas as pd\n",
        "import matplotlib.pyplot as plt\n",
        "from sklearn.ensemble import BaggingRegressor\n",
        "from sklearn.tree import DecisionTreeRegressor\n",
        "from sklearn.datasets import make_regression\n",
        "from sklearn.model_selection import train_test_split\n",
        "from sklearn.metrics import mean_squared_error\n",
        "\n",
        "# 1. Generate a synthetic regression dataset:\n",
        "X, y = make_regression(n_samples=1000, n_features=20, random_state=42)\n",
        "\n",
        "# 2. Split into training and testing sets:\n",
        "X_train, X_test, y_train, y_test = train_test_split(X, y, test_size=0.2, random_state=42)\n",
        "\n",
        "# 3. Define bootstrap sample sizes to test:\n",
        "bootstrap_sample_sizes = [0.5, 0.7, 0.9, 1.0]  # Fractions of the training set\n",
        "\n",
        "# 4. Create a dictionary to store MSE scores:\n",
        "mse_scores = {}\n",
        "\n",
        "# 5. Train and evaluate Bagging Regressor models for each bootstrap sample size:\n",
        "for bootstrap_sample_size in bootstrap_sample_sizes:\n",
        "    # Create a Bagging Regressor:\n",
        "    bagging_regressor = BaggingRegressor(\n",
        "        estimator=DecisionTreeRegressor(),\n",
        "        n_estimators=10,\n",
        "        max_samples=bootstrap_sample_size,  # Set bootstrap sample size\n",
        "        random_state=42\n",
        "    )\n",
        "\n",
        "    # Train the model:\n",
        "    bagging_regressor.fit(X_train, y_train)\n",
        "\n",
        "    # Make predictions:\n",
        "    y_pred = bagging_regressor.predict(X_test)\n",
        "\n",
        "    # Compute MSE:\n",
        "    mse = mean_squared_error(y_test, y_pred)\n",
        "\n",
        "    # Store MSE in the dictionary:\n",
        "    mse_scores[bootstrap_sample_size] = mse\n",
        "\n",
        "# 6. Create a Pandas DataFrame from MSE scores:\n",
        "mse_df = pd.DataFrame.from_dict(mse_scores, orient='index', columns=['MSE'])\n",
        "\n",
        "# 7. Print the MSE scores:\n",
        "print(mse_df)\n",
        "\n",
        "# 8. Plot the MSE scores:\n",
        "plt.figure(figsize=(8, 6))\n",
        "plt.plot(mse_df.index, mse_df['MSE'], marker='o')\n",
        "plt.title('Bagging Regressor MSE vs. Bootstrap Sample Size')\n",
        "plt.xlabel('Bootstrap Sample Size (max_samples)')\n",
        "plt.ylabel('MSE')\n",
        "plt.grid(True)\n",
        "plt.show()"
      ],
      "metadata": {
        "colab": {
          "base_uri": "https://localhost:8080/",
          "height": 651
        },
        "id": "gJcxRJwpr5-C",
        "outputId": "2a020274-4c3d-4dcb-ee72-4f86816bba40"
      },
      "execution_count": null,
      "outputs": [
        {
          "output_type": "stream",
          "name": "stdout",
          "text": [
            "              MSE\n",
            "0.5  11858.297163\n",
            "0.7   9761.713452\n",
            "0.9   9979.750535\n",
            "1.0   9462.992186\n"
          ]
        },
        {
          "output_type": "display_data",
          "data": {
            "text/plain": [
              "<Figure size 800x600 with 1 Axes>"
            ],
            "image/png": "[encoded data removed]"
          },
          "metadata": {}
        }
      ]
    },
    {
      "cell_type": "code",
      "source": [],
      "metadata": {
        "id": "CMFPfu1_r7LN"
      },
      "execution_count": null,
      "outputs": []
    }
  ]
}